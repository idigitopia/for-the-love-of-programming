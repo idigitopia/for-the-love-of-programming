{
 "cells": [
  {
   "cell_type": "code",
   "execution_count": 2,
   "metadata": {},
   "outputs": [],
   "source": [
    "import numpy as np\n",
    "import matplotlib.pyplot as plt"
   ]
  },
  {
   "cell_type": "code",
   "execution_count": 3,
   "metadata": {},
   "outputs": [
    {
     "data": {
      "text/plain": [
       "(array([ 2.,  2., 18., 12., 19., 16., 14., 13.,  3.,  1.]),\n",
       " array([-2.26619692, -1.77746218, -1.28872743, -0.79999269, -0.31125795,\n",
       "         0.17747679,  0.66621153,  1.15494627,  1.64368101,  2.13241575,\n",
       "         2.62115049]),\n",
       " <a list of 10 Patch objects>)"
      ]
     },
     "execution_count": 3,
     "metadata": {},
     "output_type": "execute_result"
    },
    {
     "data": {
      "image/png": "[encoded data removed]",
      "text/plain": [
       "<Figure size 432x288 with 1 Axes>"
      ]
     },
     "metadata": {
      "needs_background": "light"
     },
     "output_type": "display_data"
    }
   ],
   "source": [
    "noise = np.random.normal(loc = 0, scale = 1, size = 100)\n",
    "plt.hist(noise)\n"
   ]
  },
  {
   "cell_type": "code",
   "execution_count": 24,
   "metadata": {},
   "outputs": [],
   "source": [
    "samples_x = []\n",
    "\n",
    "for _ in range(10000):\n",
    "    n = 25\n",
    "    theta = 100\n",
    "    alpha = 2\n",
    "    x = []\n",
    "    e = {0:0}\n",
    "\n",
    "    for i in range(1,n+1):\n",
    "        e[i] = alpha * e[i-1] + np.random.normal(loc = 0, scale = 1)\n",
    "        x.append(theta + e[i])\n",
    "\n",
    "    samples_x.append(x)\n",
    "    "
   ]
  },
  {
   "cell_type": "code",
   "execution_count": 25,
   "metadata": {},
   "outputs": [
    {
     "name": "stdout",
     "output_type": "stream",
     "text": [
      "Bad Estimator 14493.037331560043\n",
      "Good Estimator 99.99642668641695\n"
     ]
    }
   ],
   "source": [
    "# Sanity Check to see if mean is correct.\n",
    "esitmator_1 = lambda x : np.mean(x)\n",
    "estimator_2 = lambda x : np.mean([(x[i+1]-alpha*x[i])/(1-alpha) for i in range(len(x)-1)])\n",
    "print(\"Bad Estimator\" , np.mean([esitmator_1(x) for x in samples_x]))\n",
    "print(\"Good Estimator\", np.mean([estimator_2(x) for x in samples_x]))"
   ]
  },
  {
   "cell_type": "code",
   "execution_count": null,
   "metadata": {},
   "outputs": [],
   "source": [
    "new_estimate(= )\n",
    "estimator_1 = np.mean([np.mean(x) for x in samples_x])"
   ]
  },
  {
   "cell_type": "code",
   "execution_count": null,
   "metadata": {},
   "outputs": [],
   "source": []
  },
  {
   "cell_type": "code",
   "execution_count": 75,
   "metadata": {
    "pycharm": {
     "name": "#%%\n"
    }
   },
   "outputs": [
    {
     "data": {
      "text/plain": [
       "Text(0.5, 1.0, 'X[49]')"
      ]
     },
     "execution_count": 75,
     "metadata": {},
     "output_type": "execute_result"
    },
    {
     "data": {
      "image/png": "[encoded data removed]",
      "text/plain": [
       "<Figure size 1152x576 with 4 Axes>"
      ]
     },
     "metadata": {
      "needs_background": "light"
     },
     "output_type": "display_data"
    }
   ],
   "source": [
    "\n",
    "plt.figure(figsize=(16,8))\n",
    "plt.subplot(221)\n",
    "a = plt.hist([x[0] for x in samples_x], bins = 50)\n",
    "plt.title(\"X[0]\")\n",
    "plt.subplot(222)\n",
    "a = plt.hist([x[5] for x in samples_x], bins = 50)\n",
    "plt.title(\"X[5]\")\n",
    "plt.subplot(223)\n",
    "a = plt.hist([x[10] for x in samples_x], bins = 50)\n",
    "plt.title(\"X[10]\")\n",
    "plt.subplot(224)\n",
    "a = plt.hist([x[49] for x in samples_x], bins = 50)\n",
    "plt.title(\"X[49]\")\n",
    "\n",
    "\n"
   ]
  }
 ],
 "metadata": {
  "kernelspec": {
   "display_name": "Python 3",
   "language": "python",
   "name": "python3"
  },
  "language_info": {
   "codemirror_mode": {
    "name": "ipython",
    "version": 3
   },
   "file_extension": ".py",
   "mimetype": "text/x-python",
   "name": "python",
   "nbconvert_exporter": "python",
   "pygments_lexer": "ipython3",
   "version": "3.7.7"
  }
 },
 "nbformat": 4,
 "nbformat_minor": 4
}